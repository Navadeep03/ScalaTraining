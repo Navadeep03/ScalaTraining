{
 "cells": [
  {
   "cell_type": "code",
   "execution_count": 1,
   "id": "e40514a5",
   "metadata": {},
   "outputs": [
    {
     "data": {
      "text/plain": [
       "Waiting for a Spark session to start..."
      ]
     },
     "metadata": {},
     "output_type": "display_data"
    },
    {
     "data": {
      "text/plain": [
       "context = org.apache.spark.SparkContext@23bb08a3\n",
       "sparkLib = org.apache.spark.sql.SparkSession@40ecb8f\n"
      ]
     },
     "metadata": {},
     "output_type": "display_data"
    },
    {
     "data": {
      "text/plain": [
       "org.apache.spark.sql.SparkSession@40ecb8f"
      ]
     },
     "execution_count": 1,
     "metadata": {},
     "output_type": "execute_result"
    }
   ],
   "source": [
    "val context = sc\n",
    "val sparkLib = SparkSession.builder().appName(\"Case Study 1: Genre-Specific Data Aggregation Pipeline\").getOrCreate()"
   ]
  },
  {
   "cell_type": "code",
   "execution_count": 2,
   "id": "90e4cf6d",
   "metadata": {},
   "outputs": [
    {
     "data": {
      "text/plain": [
       "moviesPath = gs://task-dataset-bucket/Day_16_17/movie.csv\n",
       "ratingsPath = gs://task-dataset-bucket/Day_16_17/rating.csv\n"
      ]
     },
     "metadata": {},
     "output_type": "display_data"
    },
    {
     "data": {
      "text/plain": [
       "gs://task-dataset-bucket/Day_16_17/rating.csv"
      ]
     },
     "execution_count": 2,
     "metadata": {},
     "output_type": "execute_result"
    }
   ],
   "source": [
    "val moviesPath = \"gs://task-dataset-bucket/Day_16_17/movie.csv\"\n",
    "val ratingsPath = \"gs://task-dataset-bucket/Day_16_17/rating.csv\""
   ]
  },
  {
   "cell_type": "code",
   "execution_count": 3,
   "id": "bcfbf2c1",
   "metadata": {},
   "outputs": [
    {
     "data": {
      "text/plain": [
       "moviesSchema = StructType(StructField(movieId,IntegerType,true),StructField(title,StringType,true),StructField(genres,StringType,true))\n",
       "ratingsSchema = StructType(StructField(userId,IntegerType,true),StructField(movieId,IntegerType,true),StructField(rating,DoubleType,true),StructField(timestamp,LongType,true))\n"
      ]
     },
     "metadata": {},
     "output_type": "display_data"
    },
    {
     "data": {
      "text/plain": [
       "StructType(StructField(userId,IntegerType,true),StructField(movieId,IntegerType,true),StructField(rating,DoubleType,true),StructField(timestamp,LongType,true))"
      ]
     },
     "execution_count": 3,
     "metadata": {},
     "output_type": "execute_result"
    }
   ],
   "source": [
    "// Creating a schema for data frames\n",
    "import org.apache.spark.sql.functions._\n",
    "import org.apache.spark.sql.types._\n",
    "\n",
    "val moviesSchema = StructType(Array(\n",
    "  StructField(\"movieId\", IntegerType, true),\n",
    "  StructField(\"title\", StringType, true),\n",
    "  StructField(\"genres\", StringType, true)\n",
    "))\n",
    "\n",
    "val ratingsSchema = StructType(Array(\n",
    "  StructField(\"userId\", IntegerType, true),\n",
    "  StructField(\"movieId\", IntegerType, true),\n",
    "  StructField(\"rating\", DoubleType, true),\n",
    "  StructField(\"timestamp\", LongType, true)\n",
    "))"
   ]
  },
  {
   "cell_type": "code",
   "execution_count": 4,
   "id": "815a5a05",
   "metadata": {},
   "outputs": [
    {
     "data": {
      "text/plain": [
       "moviesDF = [movieId: int, title: string ... 1 more field]\n",
       "ratingsDF = [userId: int, movieId: int ... 2 more fields]\n"
      ]
     },
     "metadata": {},
     "output_type": "display_data"
    },
    {
     "data": {
      "text/plain": [
       "[userId: int, movieId: int ... 2 more fields]"
      ]
     },
     "execution_count": 4,
     "metadata": {},
     "output_type": "execute_result"
    }
   ],
   "source": [
    "// Data-frames of the above Schemas\n",
    "\n",
    "val moviesDF = sparkLib.read\n",
    "  .option(\"header\", \"true\")\n",
    "  .schema(moviesSchema)\n",
    "  .csv(moviesPath)\n",
    "\n",
    "val ratingsDF = sparkLib.read\n",
    "  .option(\"header\", \"true\")\n",
    "  .schema(ratingsSchema)\n",
    "  .csv(ratingsPath)"
   ]
  },
  {
   "cell_type": "code",
   "execution_count": 5,
   "id": "8e77cebd",
   "metadata": {},
   "outputs": [
    {
     "data": {
      "text/plain": [
       "explodedMoviesDF = [movieId: int, title: string ... 1 more field]\n"
      ]
     },
     "metadata": {},
     "output_type": "display_data"
    },
    {
     "data": {
      "text/plain": [
       "[movieId: int, title: string ... 1 more field]"
      ]
     },
     "execution_count": 5,
     "metadata": {},
     "output_type": "execute_result"
    }
   ],
   "source": [
    "val explodedMoviesDF = moviesDF\n",
    "  .withColumn(\"genre\", explode(split(col(\"genres\"), \"\\\\|\")))\n",
    "  .drop(\"genres\")"
   ]
  },
  {
   "cell_type": "code",
   "execution_count": 6,
   "id": "42defedc",
   "metadata": {},
   "outputs": [
    {
     "name": "stdout",
     "output_type": "stream",
     "text": [
      "+-------+--------------------+--------------------+\n",
      "|movieId|               title|              genres|\n",
      "+-------+--------------------+--------------------+\n",
      "|      1|    Toy Story (1995)|Adventure|Animati...|\n",
      "|      2|      Jumanji (1995)|Adventure|Childre...|\n",
      "|      3|Grumpier Old Men ...|      Comedy|Romance|\n",
      "|      4|Waiting to Exhale...|Comedy|Drama|Romance|\n",
      "|      5|Father of the Bri...|              Comedy|\n",
      "+-------+--------------------+--------------------+\n",
      "only showing top 5 rows\n",
      "\n",
      "()+-------+----------------+---------+\n",
      "|movieId|           title|    genre|\n",
      "+-------+----------------+---------+\n",
      "|      1|Toy Story (1995)|Adventure|\n",
      "|      1|Toy Story (1995)|Animation|\n",
      "|      1|Toy Story (1995)| Children|\n",
      "|      1|Toy Story (1995)|   Comedy|\n",
      "|      1|Toy Story (1995)|  Fantasy|\n",
      "+-------+----------------+---------+\n",
      "only showing top 5 rows\n",
      "\n",
      "()"
     ]
    }
   ],
   "source": [
    "print(moviesDF.show(5))\n",
    "print(explodedMoviesDF.show(5))"
   ]
  },
  {
   "cell_type": "code",
   "execution_count": 7,
   "id": "d1d9d753",
   "metadata": {},
   "outputs": [
    {
     "data": {
      "text/plain": [
       "genreMappings = Map(Sci-Fi -> Science Fiction, Rom-Com -> Romantic Comedy)\n",
       "moviesRDD = MapPartitionsRDD[14] at map at <console>:35\n"
      ]
     },
     "metadata": {},
     "output_type": "display_data"
    },
    {
     "data": {
      "text/plain": [
       "MapPartitionsRDD[14] at map at <console>:35"
      ]
     },
     "execution_count": 7,
     "metadata": {},
     "output_type": "execute_result"
    }
   ],
   "source": [
    "val genreMappings = Map(\n",
    "  \"Sci-Fi\" -> \"Science Fiction\",\n",
    "  \"Rom-Com\" -> \"Romantic Comedy\"\n",
    ")\n",
    "\n",
    "val moviesRDD = explodedMoviesDF.rdd.map(row => {\n",
    "  val movieId = row.getInt(0)\n",
    "  val title = row.getString(1)\n",
    "  val genre = genreMappings.getOrElse(row.getString(2), row.getString(2))\n",
    "  (movieId, title, genre)\n",
    "})"
   ]
  },
  {
   "cell_type": "code",
   "execution_count": 8,
   "id": "bfcba825",
   "metadata": {},
   "outputs": [
    {
     "data": {
      "text/plain": [
       "Array((1,Toy Story (1995),Adventure), (1,Toy Story (1995),Animation), (1,Toy Story (1995),Children), (1,Toy Story (1995),Comedy), (1,Toy Story (1995),Fantasy), (2,Jumanji (1995),Adventure), (2,Jumanji (1995),Children), (2,Jumanji (1995),Fantasy), (3,Grumpier Old Men (1995),Comedy), (3,Grumpier Old Men (1995),Romance))"
      ]
     },
     "execution_count": 8,
     "metadata": {},
     "output_type": "execute_result"
    }
   ],
   "source": [
    "moviesRDD.take(10)"
   ]
  },
  {
   "cell_type": "code",
   "execution_count": 9,
   "id": "6f70b718",
   "metadata": {},
   "outputs": [
    {
     "data": {
      "text/plain": [
       "ratingsRDD = MapPartitionsRDD[20] at map at <console>:31\n",
       "joinedRDD = MapPartitionsRDD[25] at map at <console>:35\n"
      ]
     },
     "metadata": {},
     "output_type": "display_data"
    },
    {
     "data": {
      "text/plain": [
       "MapPartitionsRDD[25] at map at <console>:35"
      ]
     },
     "execution_count": 9,
     "metadata": {},
     "output_type": "execute_result"
    }
   ],
   "source": [
    "val ratingsRDD = ratingsDF.rdd.map(row => (row.getInt(1), row.getDouble(2)))\n",
    "\n",
    "val joinedRDD = moviesRDD.map(row => (row._1, row._3))\n",
    "  .join(ratingsRDD)\n",
    "  .map {case (_, (genre, rating)) => (genre, rating)}"
   ]
  },
  {
   "cell_type": "code",
   "execution_count": 10,
   "id": "25a3a6d7",
   "metadata": {},
   "outputs": [
    {
     "data": {
      "text/plain": [
       "avgRatingsRDD = MapPartitionsRDD[28] at mapValues at <console>:33\n"
      ]
     },
     "metadata": {},
     "output_type": "display_data"
    },
    {
     "data": {
      "text/plain": [
       "MapPartitionsRDD[28] at mapValues at <console>:33"
      ]
     },
     "execution_count": 10,
     "metadata": {},
     "output_type": "execute_result"
    }
   ],
   "source": [
    "val avgRatingsRDD = joinedRDD\n",
    "  .mapValues(rating => (rating, 1))\n",
    "  .reduceByKey((a, b) => (a._1 + b._1, a._2 + b._2))\n",
    "  .mapValues { case (totalRating, count) => totalRating / count }"
   ]
  },
  {
   "cell_type": "code",
   "execution_count": 11,
   "id": "c156e6b7",
   "metadata": {},
   "outputs": [
    {
     "data": {
      "text/plain": [
       "avgRatingsDF = [genre: string, average_rating: double]\n",
       "outputPath = hdfs:///user/Navadeep/Day_16_17/Case_Study_1/average_ratings.parquet\n"
      ]
     },
     "metadata": {},
     "output_type": "display_data"
    },
    {
     "data": {
      "text/plain": [
       "hdfs:///user/Navadeep/Day_16_17/Case_Study_1/average_ratings.parquet"
      ]
     },
     "execution_count": 11,
     "metadata": {},
     "output_type": "execute_result"
    }
   ],
   "source": [
    "val avgRatingsDF = avgRatingsRDD.toDF(\"genre\", \"average_rating\")\n",
    "\n",
    "val outputPath = \"hdfs:///user/Navadeep/Day_16_17/Case_Study_1/average_ratings.parquet\"\n",
    "\n",
    "avgRatingsDF.write\n",
    "  .mode(\"overwrite\")\n",
    "  .parquet(outputPath)"
   ]
  },
  {
   "cell_type": "code",
   "execution_count": 12,
   "id": "98853447",
   "metadata": {},
   "outputs": [
    {
     "name": "stdout",
     "output_type": "stream",
     "text": [
      "+------------------+------------------+\n",
      "|             genre|    average_rating|\n",
      "+------------------+------------------+\n",
      "|           Western|3.5704980246109406|\n",
      "|           Musical| 3.558090628821412|\n",
      "|            Horror|3.2772238097518307|\n",
      "|          Thriller|  3.50711121809216|\n",
      "|         Adventure|3.5018926565473865|\n",
      "|       Documentary|3.7397176834178865|\n",
      "|(no genres listed)|3.0069252077562325|\n",
      "|             Drama|3.6742955093068264|\n",
      "|          Children|3.4081137685270444|\n",
      "|           Mystery| 3.663508921312903|\n",
      "|           Romance| 3.541802581902903|\n",
      "|         Film-Noir|  3.96538126070082|\n",
      "|               War|3.8095307347384844|\n",
      "|   Science Fiction|3.4367726714455005|\n",
      "|             Crime|3.6745276025631113|\n",
      "|         Animation|3.6174939235897994|\n",
      "|           Fantasy|3.5059453358738244|\n",
      "|            Action|  3.44386376493354|\n",
      "|              IMAX| 3.655945983272606|\n",
      "|            Comedy|3.4260113054324886|\n",
      "+------------------+------------------+\n",
      "\n"
     ]
    },
    {
     "data": {
      "text/plain": [
       "resultDF = [genre: string, average_rating: double]\n"
      ]
     },
     "metadata": {},
     "output_type": "display_data"
    },
    {
     "data": {
      "text/plain": [
       "[genre: string, average_rating: double]"
      ]
     },
     "execution_count": 12,
     "metadata": {},
     "output_type": "execute_result"
    }
   ],
   "source": [
    "val resultDF = spark.read.parquet(outputPath)\n",
    "resultDF.show()"
   ]
  },
  {
   "cell_type": "code",
   "execution_count": 13,
   "id": "0e000270",
   "metadata": {},
   "outputs": [
    {
     "data": {
      "text/plain": [
       "consolidatedDF = [genre: string, average_rating: double]\n"
      ]
     },
     "metadata": {},
     "output_type": "display_data"
    },
    {
     "data": {
      "text/plain": [
       "[genre: string, average_rating: double]"
      ]
     },
     "execution_count": 13,
     "metadata": {},
     "output_type": "execute_result"
    }
   ],
   "source": [
    "val consolidatedDF = spark.read.parquet(outputPath)"
   ]
  },
  {
   "cell_type": "code",
   "execution_count": 14,
   "id": "881f6a8c",
   "metadata": {},
   "outputs": [
    {
     "data": {
      "text/plain": [
       "consolidatedOutputPath = hdfs:///user/Navadeep/Day_16_17/Case_Study_1/consolidated_average_ratings.parquet\n"
      ]
     },
     "metadata": {},
     "output_type": "display_data"
    },
    {
     "data": {
      "text/plain": [
       "hdfs:///user/Navadeep/Day_16_17/Case_Study_1/consolidated_average_ratings.parquet"
      ]
     },
     "execution_count": 14,
     "metadata": {},
     "output_type": "execute_result"
    }
   ],
   "source": [
    "val consolidatedOutputPath = \"hdfs:///user/Navadeep/Day_16_17/Case_Study_1/consolidated_average_ratings.parquet\""
   ]
  },
  {
   "cell_type": "code",
   "execution_count": 15,
   "id": "8424bdbf",
   "metadata": {},
   "outputs": [
    {
     "name": "stdout",
     "output_type": "stream",
     "text": [
      "Consolidated data written to: hdfs:///user/Navadeep/Day_16_17/Case_Study_1/consolidated_average_ratings.parquet\n"
     ]
    },
    {
     "data": {
      "text/plain": [
       "finalDF = [genre: string, average_rating: double]\n"
      ]
     },
     "metadata": {},
     "output_type": "display_data"
    },
    {
     "data": {
      "text/plain": [
       "[genre: string, average_rating: double]"
      ]
     },
     "execution_count": 15,
     "metadata": {},
     "output_type": "execute_result"
    }
   ],
   "source": [
    "val finalDF = consolidatedDF.coalesce(1)\n",
    "finalDF.write\n",
    "  .mode(\"overwrite\")\n",
    "  .parquet(consolidatedOutputPath)\n",
    "\n",
    "println(s\"Consolidated data written to: $consolidatedOutputPath\")"
   ]
  },
  {
   "cell_type": "code",
   "execution_count": 16,
   "id": "8f1bc15c",
   "metadata": {},
   "outputs": [
    {
     "name": "stdout",
     "output_type": "stream",
     "text": [
      "+------------------+------------------+\n",
      "|             genre|    average_rating|\n",
      "+------------------+------------------+\n",
      "|           Western|3.5704980246109406|\n",
      "|           Musical| 3.558090628821412|\n",
      "|            Horror|3.2772238097518307|\n",
      "|          Thriller|  3.50711121809216|\n",
      "|         Adventure|3.5018926565473865|\n",
      "|       Documentary|3.7397176834178865|\n",
      "|(no genres listed)|3.0069252077562325|\n",
      "|             Drama|3.6742955093068264|\n",
      "|          Children|3.4081137685270444|\n",
      "|           Mystery| 3.663508921312903|\n",
      "|           Romance| 3.541802581902903|\n",
      "|         Film-Noir|  3.96538126070082|\n",
      "|               War|3.8095307347384844|\n",
      "|   Science Fiction|3.4367726714455005|\n",
      "|             Crime|3.6745276025631113|\n",
      "|         Animation|3.6174939235897994|\n",
      "|           Fantasy|3.5059453358738244|\n",
      "|            Action|  3.44386376493354|\n",
      "|              IMAX| 3.655945983272606|\n",
      "|            Comedy|3.4260113054324886|\n",
      "+------------------+------------------+\n",
      "\n"
     ]
    },
    {
     "data": {
      "text/plain": [
       "resultDF = [genre: string, average_rating: double]\n"
      ]
     },
     "metadata": {},
     "output_type": "display_data"
    },
    {
     "data": {
      "text/plain": [
       "[genre: string, average_rating: double]"
      ]
     },
     "execution_count": 16,
     "metadata": {},
     "output_type": "execute_result"
    }
   ],
   "source": [
    "val resultDF = spark.read.parquet(consolidatedOutputPath)\n",
    "resultDF.show()"
   ]
  },
  {
   "cell_type": "code",
   "execution_count": null,
   "id": "36b6b18f",
   "metadata": {},
   "outputs": [],
   "source": []
  }
 ],
 "metadata": {
  "kernelspec": {
   "display_name": "Apache Toree - Scala",
   "language": "scala",
   "name": "apache_toree_scala"
  },
  "language_info": {
   "codemirror_mode": "text/x-scala",
   "file_extension": ".scala",
   "mimetype": "text/x-scala",
   "name": "scala",
   "pygments_lexer": "scala",
   "version": "2.12.15"
  }
 },
 "nbformat": 4,
 "nbformat_minor": 5
}