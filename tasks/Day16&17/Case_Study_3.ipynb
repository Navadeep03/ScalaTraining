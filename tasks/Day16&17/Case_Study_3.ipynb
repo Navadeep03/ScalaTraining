{
 "cells": [
  {
   "cell_type": "code",
   "execution_count": 1,
   "id": "ddc8a9e5",
   "metadata": {},
   "outputs": [
    {
     "data": {
      "text/plain": [
       "spark = org.apache.spark.sql.SparkSession@25801240\n"
      ]
     },
     "metadata": {},
     "output_type": "display_data"
    },
    {
     "data": {
      "text/plain": [
       "org.apache.spark.sql.SparkSession@25801240"
      ]
     },
     "execution_count": 1,
     "metadata": {},
     "output_type": "execute_result"
    }
   ],
   "source": [
    "import org.apache.spark.sql.SparkSession\n",
    "import org.apache.spark.sql.functions._\n",
    "import org.apache.spark.sql.Row\n",
    "import org.apache.spark.rdd.RDD\n",
    "import org.apache.hadoop.fs.{FileSystem, Path}\n",
    "import scala.util.matching.Regex\n",
    "import org.apache.spark.sql.types._\n",
    "\n",
    "// Initialize SparkSession\n",
    "val spark = SparkSession.builder()\n",
    "    .appName(\"CaseStudy3 - Handling Movie Metadata\")\n",
    "    .getOrCreate()"
   ]
  },
  {
   "cell_type": "code",
   "execution_count": 2,
   "id": "b8d1ab60",
   "metadata": {},
   "outputs": [
    {
     "data": {
      "text/plain": [
       "moviesPath = gs://task-dataset-bucket/Day_16_17/movie.csv\n",
       "moviesDF = [movieId: int, title: string ... 1 more field]\n",
       "moviesRDD = MapPartitionsRDD[15] at map at <console>:38\n"
      ]
     },
     "metadata": {},
     "output_type": "display_data"
    },
    {
     "data": {
      "text/plain": [
       "MapPartitionsRDD[15] at map at <console>:38"
      ]
     },
     "execution_count": 2,
     "metadata": {},
     "output_type": "execute_result"
    }
   ],
   "source": [
    "val moviesPath = \"gs://task-dataset-bucket/Day_16_17/movie.csv\"\n",
    "val moviesDF = spark.read.option(\"header\", \"true\").option(\"inferSchema\", \"true\").csv(moviesPath)\n",
    "\n",
    "val moviesRDD = moviesDF.rdd.map { row =>\n",
    "    val movieId = row.getAs[Int](\"movieId\")\n",
    "    val title = row.getAs[String](\"title\")\n",
    "    val genres = row.getAs[String](\"genres\")\n",
    "    (movieId, title, genres)\n",
    "}"
   ]
  },
  {
   "cell_type": "code",
   "execution_count": 3,
   "id": "f5df4fc9",
   "metadata": {},
   "outputs": [
    {
     "data": {
      "text/plain": [
       "defaultYear = 9999\n",
       "metadataRDD = MapPartitionsRDD[16] at map at <console>:46\n"
      ]
     },
     "metadata": {},
     "output_type": "display_data"
    },
    {
     "data": {
      "text/plain": [
       "extractYear: (title: String)Int\n"
      ]
     },
     "metadata": {},
     "output_type": "display_data"
    },
    {
     "data": {
      "text/plain": [
       "MapPartitionsRDD[16] at map at <console>:46"
      ]
     },
     "execution_count": 3,
     "metadata": {},
     "output_type": "execute_result"
    }
   ],
   "source": [
    "val defaultYear = 9999\n",
    "\n",
    "def extractYear(title: String): Int = {\n",
    "    val startIdx = title.lastIndexOf(\"(\")\n",
    "    val endIdx = title.lastIndexOf(\")\")\n",
    "    if (startIdx != -1 && endIdx != -1) {\n",
    "        val yearStr = title.substring(startIdx + 1, endIdx)\n",
    "        if (yearStr.forall(_.isDigit) && yearStr.length == 4) yearStr.toInt else defaultYear\n",
    "    } else defaultYear\n",
    "}\n",
    "\n",
    "val metadataRDD: RDD[(Int, Int)] = moviesRDD.map { case (movieId, title, genres) =>\n",
    "    val year = extractYear(title)\n",
    "    (movieId, year)\n",
    "}\n"
   ]
  },
  {
   "cell_type": "code",
   "execution_count": 4,
   "id": "4dd57ca6",
   "metadata": {},
   "outputs": [
    {
     "data": {
      "text/plain": [
       "metadataDF = [movieId: int, releaseYear: int]\n"
      ]
     },
     "metadata": {},
     "output_type": "display_data"
    },
    {
     "data": {
      "text/plain": [
       "[movieId: int, releaseYear: int]"
      ]
     },
     "execution_count": 4,
     "metadata": {},
     "output_type": "execute_result"
    }
   ],
   "source": [
    "import spark.implicits._\n",
    "\n",
    "val metadataDF = metadataRDD.toDF(\"movieId\", \"releaseYear\")\n",
    "\n",
    "// Save to JSON\n",
    "metadataDF.coalesce(1).write.mode(\"overwrite\").json(\"gs://task-dataset-bucket/Day_16_17/metadata\")\n"
   ]
  },
  {
   "cell_type": "code",
   "execution_count": 5,
   "id": "052550d7",
   "metadata": {},
   "outputs": [
    {
     "name": "stdout",
     "output_type": "stream",
     "text": [
      "+-------+-----------+\n",
      "|movieId|releaseYear|\n",
      "+-------+-----------+\n",
      "+-------+-----------+\n",
      "\n"
     ]
    },
    {
     "data": {
      "text/plain": [
       "metadataJsonDF = [movieId: bigint, releaseYear: bigint]\n"
      ]
     },
     "metadata": {},
     "output_type": "display_data"
    },
    {
     "data": {
      "text/plain": [
       "[movieId: bigint, releaseYear: bigint]"
      ]
     },
     "execution_count": 5,
     "metadata": {},
     "output_type": "execute_result"
    }
   ],
   "source": [
    "val metadataJsonDF = spark.read.json(\"gs://task-dataset-bucket/Day_16_17/metadata\")\n",
    "metadataJsonDF.filter(col(\"releaseYear\").isNull).show()\n"
   ]
  },
  {
   "cell_type": "code",
   "execution_count": 6,
   "id": "24415c77",
   "metadata": {},
   "outputs": [
    {
     "data": {
      "text/plain": [
       "metadataJsonRDD = MapPartitionsRDD[34] at map at <console>:40\n",
       "joinedRDD = MapPartitionsRDD[38] at join at <console>:48\n"
      ]
     },
     "metadata": {},
     "output_type": "display_data"
    },
    {
     "data": {
      "text/plain": [
       "MapPartitionsRDD[38] at join at <console>:48"
      ]
     },
     "execution_count": 6,
     "metadata": {},
     "output_type": "execute_result"
    }
   ],
   "source": [
    "val metadataJsonRDD = metadataJsonDF.rdd.map { row =>\n",
    "    val movieId = row.getAs[Long](\"movieId\").toInt\n",
    "    val releaseYear = row.getAs[Long](\"releaseYear\").toInt\n",
    "    (movieId, releaseYear)\n",
    "}\n",
    "\n",
    "val joinedRDD = moviesRDD.map { case (movieId, title, genres) =>\n",
    "    (movieId, (title, genres))\n",
    "}.join(metadataJsonRDD)\n"
   ]
  },
  {
   "cell_type": "code",
   "execution_count": 7,
   "id": "20ce8789",
   "metadata": {},
   "outputs": [
    {
     "data": {
      "text/plain": [
       "finalDF = [movieId: int, title: string ... 2 more fields]\n"
      ]
     },
     "metadata": {},
     "output_type": "display_data"
    },
    {
     "data": {
      "text/plain": [
       "[movieId: int, title: string ... 2 more fields]"
      ]
     },
     "execution_count": 7,
     "metadata": {},
     "output_type": "execute_result"
    }
   ],
   "source": [
    "val finalDF = joinedRDD.map { case (movieId, ((title, genres), releaseYear)) =>\n",
    "    if (releaseYear != defaultYear) (movieId, title, genres, releaseYear)\n",
    "    else (movieId, s\"$title ($defaultYear)\", genres, releaseYear)\n",
    "}.toDF(\"movieId\", \"title\", \"genre\", \"releaseYear\")\n"
   ]
  },
  {
   "cell_type": "code",
   "execution_count": 8,
   "id": "41d9b323",
   "metadata": {},
   "outputs": [
    {
     "data": {
      "text/plain": [
       "outputPath = hdfs:///user/day_16_17/case_study_3\n"
      ]
     },
     "metadata": {},
     "output_type": "display_data"
    },
    {
     "data": {
      "text/plain": [
       "hdfs:///user/day_16_17/case_study_3"
      ]
     },
     "execution_count": 8,
     "metadata": {},
     "output_type": "execute_result"
    }
   ],
   "source": [
    "val outputPath = \"hdfs:///user/day_16_17/case_study_3\"\n",
    "finalDF.write.mode(\"overwrite\").parquet(outputPath)\n"
   ]
  },
  {
   "cell_type": "code",
   "execution_count": 9,
   "id": "743c574c",
   "metadata": {},
   "outputs": [
    {
     "name": "stdout",
     "output_type": "stream",
     "text": [
      "+-------+--------------------+--------------------+-----------+\n",
      "|movieId|               title|               genre|releaseYear|\n",
      "+-------+--------------------+--------------------+-----------+\n",
      "| 113843|Killing Us Softly...|         Documentary|       2010|\n",
      "| 103301|   Liz & Dick (2012)|               Drama|       2012|\n",
      "| 110163|  Aujourd'hui (2012)|               Drama|       2012|\n",
      "|  91902|        Elena (2011)|               Drama|       2011|\n",
      "|  68522|        Earth (2007)|         Documentary|       2007|\n",
      "| 111517|10.000 Km (Long D...|       Drama|Romance|       2014|\n",
      "| 100306|       Angst  (1983)|        Drama|Horror|       1983|\n",
      "|   5354|Cactus Flower (1969)|              Comedy|       1969|\n",
      "|   4926|Everybody's Famou...|Comedy|Drama|Musical|       2000|\n",
      "| 100494| Incir Reçeli (2011)|       Drama|Romance|       2011|\n",
      "| 117509| City Slacker (2012)|             Romance|       2012|\n",
      "|   4992|Kate & Leopold (2...|      Comedy|Romance|       2001|\n",
      "|  92477|Yes: 9012 Live (1...| Documentary|Musical|       1985|\n",
      "|  48389|Iraq for Sale: Th...|         Documentary|       2006|\n",
      "|  71444|Thirst (Pyaasa) (...|Drama|Musical|Rom...|       1957|\n",
      "| 107756|     A.C.O.D. (2013)|              Comedy|       2013|\n",
      "| 104815|Bad Men of Missou...|Action|Romance|We...|       1941|\n",
      "|   1780|Ayn Rand: A Sense...|         Documentary|       1997|\n",
      "| 109173|  Storm Rider (2013)|               Drama|       2013|\n",
      "|   2117|1984 (Nineteen Ei...|        Drama|Sci-Fi|       1984|\n",
      "+-------+--------------------+--------------------+-----------+\n",
      "only showing top 20 rows\n",
      "\n",
      "+-------+--------------------+--------------------+-----------+\n",
      "|movieId|               title|               genre|releaseYear|\n",
      "+-------+--------------------+--------------------+-----------+\n",
      "| 126929|Li'l Quinquin (9999)|  (no genres listed)|       9999|\n",
      "| 126438|Two: The Story of...|   Documentary|Drama|       9999|\n",
      "| 125571|The Court-Martial...|  (no genres listed)|       9999|\n",
      "| 112406|Brazil: In the Sh...|         Documentary|       9999|\n",
      "|  98063|Mona and the Time...|               Drama|       9999|\n",
      "|  40697|    Babylon 5 (9999)|              Sci-Fi|       9999|\n",
      "| 128734|Polskie gówno (9999)|      Comedy|Musical|       9999|\n",
      "| 113190|Slaying the Badge...|         Documentary|       9999|\n",
      "| 128612|   Body/Cialo (9999)|Comedy|Drama|Mystery|       9999|\n",
      "| 125958|Stephen Fry In Am...|  (no genres listed)|       9999|\n",
      "| 125632|In Our Garden (9999)|  (no genres listed)|       9999|\n",
      "| 129651|The Third Reich: ...|  (no genres listed)|       9999|\n",
      "| 108583|Fawlty Towers (19...|              Comedy|       9999|\n",
      "| 127005|A Year Along the ...|  (no genres listed)|       9999|\n",
      "| 129705|   My Own Man (9999)|  (no genres listed)|       9999|\n",
      "|  79607|Millions Game, Th...|Action|Drama|Sci-...|       9999|\n",
      "| 129887|  Moving Alan (9999)|  (no genres listed)|       9999|\n",
      "| 108548|Big Bang Theory, ...|              Comedy|       9999|\n",
      "| 115133|Tatort: Im Schmer...|               Crime|       9999|\n",
      "| 130454|Michael Laudrup -...|  (no genres listed)|       9999|\n",
      "+-------+--------------------+--------------------+-----------+\n",
      "only showing top 20 rows\n",
      "\n"
     ]
    }
   ],
   "source": [
    "spark.read.parquet(outputPath).show(20)\n",
    "spark.read.parquet(outputPath).filter(col(\"releaseYear\") === defaultYear).show(20)\n"
   ]
  },
  {
   "cell_type": "code",
   "execution_count": 10,
   "id": "4ddbca90",
   "metadata": {},
   "outputs": [],
   "source": [
    "spark.stop()"
   ]
  }
 ],
 "metadata": {
  "kernelspec": {
   "display_name": "Apache Toree - Scala",
   "language": "scala",
   "name": "apache_toree_scala"
  },
  "language_info": {
   "codemirror_mode": "text/x-scala",
   "file_extension": ".scala",
   "mimetype": "text/x-scala",
   "name": "scala",
   "pygments_lexer": "scala",
   "version": "2.12.15"
  }
 },
 "nbformat": 4,
 "nbformat_minor": 5
}