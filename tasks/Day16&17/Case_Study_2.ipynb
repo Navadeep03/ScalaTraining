{
 "cells": [
  {
   "cell_type": "code",
   "execution_count": 1,
   "id": "284255ba",
   "metadata": {},
   "outputs": [],
   "source": [
    "import org.apache.spark.sql.functions._"
   ]
  },
  {
   "cell_type": "code",
   "execution_count": 2,
   "id": "56997ed0",
   "metadata": {},
   "outputs": [
    {
     "data": {
      "text/plain": [
       "spark = org.apache.spark.sql.SparkSession@51924744\n"
      ]
     },
     "metadata": {},
     "output_type": "display_data"
    },
    {
     "data": {
      "text/plain": [
       "org.apache.spark.sql.SparkSession@51924744"
      ]
     },
     "execution_count": 2,
     "metadata": {},
     "output_type": "execute_result"
    }
   ],
   "source": [
    "val spark = SparkSession.builder()\n",
    "  .appName(\"UserRatingPartitioning\")\n",
    "  .getOrCreate()\n"
   ]
  },
  {
   "cell_type": "code",
   "execution_count": 3,
   "id": "42502b15",
   "metadata": {},
   "outputs": [
    {
     "data": {
      "text/plain": [
       "ratingsPath = gs://task-dataset-bucket/Day_16_17/rating.csv\n",
       "ratingsDF = [userId: int, movieId: int ... 2 more fields]\n"
      ]
     },
     "metadata": {},
     "output_type": "display_data"
    },
    {
     "data": {
      "text/plain": [
       "[userId: int, movieId: int ... 2 more fields]"
      ]
     },
     "execution_count": 3,
     "metadata": {},
     "output_type": "execute_result"
    }
   ],
   "source": [
    "val ratingsPath = \"gs://task-dataset-bucket/Day_16_17/rating.csv\"\n",
    "\n",
    "val ratingsDF = spark.read\n",
    "  .option(\"header\", \"true\")\n",
    "  .option(\"inferSchema\", \"true\")\n",
    "  .csv(ratingsPath)"
   ]
  },
  {
   "cell_type": "code",
   "execution_count": 4,
   "id": "8d391e88",
   "metadata": {},
   "outputs": [
    {
     "data": {
      "text/plain": [
       "filteredRatingsDF = [userId: int, movieId: int ... 2 more fields]\n"
      ]
     },
     "metadata": {},
     "output_type": "display_data"
    },
    {
     "data": {
      "text/plain": [
       "[userId: int, movieId: int ... 2 more fields]"
      ]
     },
     "execution_count": 4,
     "metadata": {},
     "output_type": "execute_result"
    }
   ],
   "source": [
    "val filteredRatingsDF = ratingsDF.filter(\n",
    "  col(\"userId\").isNotNull &&\n",
    "  col(\"movieId\").isNotNull &&\n",
    "  col(\"rating\").isNotNull &&\n",
    "  col(\"timestamp\").isNotNull\n",
    ")"
   ]
  },
  {
   "cell_type": "code",
   "execution_count": 5,
   "id": "d664d233",
   "metadata": {},
   "outputs": [
    {
     "data": {
      "text/plain": [
       "trimmedDF = [userId: int, movieId: int ... 2 more fields]\n"
      ]
     },
     "metadata": {},
     "output_type": "display_data"
    },
    {
     "data": {
      "text/plain": [
       "[userId: int, movieId: int ... 2 more fields]"
      ]
     },
     "execution_count": 5,
     "metadata": {},
     "output_type": "execute_result"
    }
   ],
   "source": [
    "val trimmedDF = filteredRatingsDF.limit(100000)"
   ]
  },
  {
   "cell_type": "code",
   "execution_count": 6,
   "id": "00b3a6c7",
   "metadata": {},
   "outputs": [
    {
     "name": "stdout",
     "output_type": "stream",
     "text": [
      "+------+-------+------+-------------------+\n",
      "|userId|movieId|rating|          timestamp|\n",
      "+------+-------+------+-------------------+\n",
      "|     1|      2|   3.5|2005-04-02 23:53:47|\n",
      "|     1|     29|   3.5|2005-04-02 23:31:16|\n",
      "|     1|     32|   3.5|2005-04-02 23:33:39|\n",
      "|     1|     47|   3.5|2005-04-02 23:32:07|\n",
      "|     1|     50|   3.5|2005-04-02 23:29:40|\n",
      "|     1|    112|   3.5|2004-09-10 03:09:00|\n",
      "|     1|    151|   4.0|2004-09-10 03:08:54|\n",
      "|     1|    223|   4.0|2005-04-02 23:46:13|\n",
      "|     1|    253|   4.0|2005-04-02 23:35:40|\n",
      "|     1|    260|   4.0|2005-04-02 23:33:46|\n",
      "+------+-------+------+-------------------+\n",
      "only showing top 10 rows\n",
      "\n"
     ]
    }
   ],
   "source": [
    "trimmedDF.show(10)"
   ]
  },
  {
   "cell_type": "code",
   "execution_count": 8,
   "id": "87d703b9",
   "metadata": {},
   "outputs": [
    {
     "data": {
      "text/plain": [
       "lastException = null\n",
       "outputPath = hdfs:///user/Navadeep/Day_16_17/Case_Study_2/user_data\n"
      ]
     },
     "metadata": {},
     "output_type": "display_data"
    },
    {
     "data": {
      "text/plain": [
       "hdfs:///user/Navadeep/Day_16_17/Case_Study_2/user_data"
      ]
     },
     "execution_count": 8,
     "metadata": {},
     "output_type": "execute_result"
    }
   ],
   "source": [
    "val outputPath = \"hdfs:///user/Navadeep/Day_16_17/Case_Study_2/user_data\"\n",
    "\n",
    "trimmedDF.coalesce(1).write\n",
    "  .partitionBy(\"userId\")\n",
    "  .mode(\"overwrite\")\n",
    "  .parquet(outputPath)"
   ]
  },
  {
   "cell_type": "code",
   "execution_count": null,
   "id": "f01e6875",
   "metadata": {},
   "outputs": [],
   "source": []
  }
 ],
 "metadata": {
  "kernelspec": {
   "display_name": "Apache Toree - Scala",
   "language": "scala",
   "name": "apache_toree_scala"
  },
  "language_info": {
   "codemirror_mode": "text/x-scala",
   "file_extension": ".scala",
   "mimetype": "text/x-scala",
   "name": "scala",
   "pygments_lexer": "scala",
   "version": "2.12.15"
  }
 },
 "nbformat": 4,
 "nbformat_minor": 5
}